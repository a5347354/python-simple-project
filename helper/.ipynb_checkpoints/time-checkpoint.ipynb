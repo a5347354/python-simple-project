{
 "cells": [
  {
   "cell_type": "markdown",
   "metadata": {},
   "source": [
    "# UTC to Taiwan"
   ]
  },
  {
   "cell_type": "code",
   "execution_count": 5,
   "metadata": {},
   "outputs": [
    {
     "name": "stdout",
     "output_type": "stream",
     "text": [
      "UTC: 2020/01/09 11:22:14\n",
      "TW: 2020/01/09 19:22:14\n"
     ]
    }
   ],
   "source": [
    "import pytz \n",
    "from datetime import datetime\n",
    "\n",
    "# convert UTC to Taipei\n",
    "utc = pytz.timezone('UTC')\n",
    "# UTC time\n",
    "time_str = '2020/01/09 11:22:14' \n",
    "dt = datetime.strptime(time_str, '%Y/%m/%d %H:%M:%S')\n",
    "utcdt = utc.localize(dt)\n",
    "twdt = utcdt.astimezone(pytz.timezone('Asia/Taipei'))\n",
    "twdt_str = twdt.strftime('%Y/%m/%d %H:%M:%S')\n",
    "print('UTC: %s' % time_str)\n",
    "print('TW: %s' % twdt_str)"
   ]
  },
  {
   "cell_type": "code",
   "execution_count": null,
   "metadata": {},
   "outputs": [],
   "source": []
  }
 ],
 "metadata": {
  "kernelspec": {
   "display_name": "env_jupyter",
   "language": "python",
   "name": "env_jupyter"
  },
  "language_info": {
   "codemirror_mode": {
    "name": "ipython",
    "version": 3
   },
   "file_extension": ".py",
   "mimetype": "text/x-python",
   "name": "python",
   "nbconvert_exporter": "python",
   "pygments_lexer": "ipython3",
   "version": "3.7.5"
  }
 },
 "nbformat": 4,
 "nbformat_minor": 2
}
