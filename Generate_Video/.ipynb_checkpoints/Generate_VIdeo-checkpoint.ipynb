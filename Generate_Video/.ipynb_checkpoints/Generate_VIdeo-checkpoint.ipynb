{
 "cells": [
  {
   "cell_type": "code",
   "execution_count": null,
   "metadata": {},
   "outputs": [],
   "source": [
    "from transloadit import client\n",
    "\n",
    "tl = client.Transloadit('88d987bf38da4ca7ab3bb2eed7dc2f97', '312491072dec4677804bb7f2810ea74a62d1cd46')\n",
    "assembly = tl.new_assembly()\n",
    "assembly.add_file(open('panda.jpg', 'rb'))\n",
    "assembly.add_file(open('minion.jpg', 'rb'))\n",
    "assembly.add_step('resize', '/image/resize', {'width': 70, 'height': 70})\n",
    "assembly_response = assembly.create(retries=5, wait=True)\n",
    "\n",
    "print(assembly_response.data.get('assembly_id'))"
   ]
  },
  {
   "cell_type": "code",
   "execution_count": 55,
   "metadata": {},
   "outputs": [
    {
     "ename": "TypeError",
     "evalue": "'Request' object is not callable",
     "output_type": "error",
     "traceback": [
      "\u001b[0;31m---------------------------------------------------------------------------\u001b[0m",
      "\u001b[0;31mTypeError\u001b[0m                                 Traceback (most recent call last)",
      "\u001b[0;32m<ipython-input-55-6b77dd995aaa>\u001b[0m in \u001b[0;36m<module>\u001b[0;34m\u001b[0m\n\u001b[1;32m     15\u001b[0m }\n\u001b[1;32m     16\u001b[0m \u001b[0;34m\u001b[0m\u001b[0m\n\u001b[0;32m---> 17\u001b[0;31m \u001b[0mresult\u001b[0m \u001b[0;34m=\u001b[0m \u001b[0mclient\u001b[0m\u001b[0;34m.\u001b[0m\u001b[0mrequest\u001b[0m\u001b[0;34m(\u001b[0m\u001b[0;34m**\u001b[0m\u001b[0mparams\u001b[0m\u001b[0;34m)\u001b[0m\u001b[0;34m\u001b[0m\u001b[0;34m\u001b[0m\u001b[0m\n\u001b[0m\u001b[1;32m     18\u001b[0m \u001b[0mprint\u001b[0m\u001b[0;34m(\u001b[0m\u001b[0mresult\u001b[0m\u001b[0;34m)\u001b[0m\u001b[0;34m\u001b[0m\u001b[0;34m\u001b[0m\u001b[0m\n",
      "\u001b[0;31mTypeError\u001b[0m: 'Request' object is not callable"
     ]
    }
   ],
   "source": [
    "from transloadit import client\n",
    "\n",
    "AUTH_KEY = '88d987bf38da4ca7ab3bb2eed7dc2f97'\n",
    "AUTH_SECRET = '312491072dec4677804bb7f2810ea74a62d1cd46'\n",
    "\n",
    "client = client.Transloadit(AUTH_KEY, AUTH_SECRET)\n",
    "params = {\n",
    "    'steps': {\n",
    "        ':original': {\n",
    "            'robot': '/http/import',\n",
    "            'url': 'minion.jpg'\n",
    "        }\n",
    "    },\n",
    "    'template_id': 'your_template_id_here'\n",
    "}\n",
    "\n",
    "result = client.request(**params)\n",
    "print(result)"
   ]
  },
  {
   "cell_type": "code",
   "execution_count": 48,
   "metadata": {},
   "outputs": [
    {
     "ename": "AttributeError",
     "evalue": "'str' object has no attribute '_to_payload'",
     "output_type": "error",
     "traceback": [
      "\u001b[0;31m---------------------------------------------------------------------------\u001b[0m",
      "\u001b[0;31mAttributeError\u001b[0m                            Traceback (most recent call last)",
      "\u001b[0;32m<ipython-input-48-0aa368ca5709>\u001b[0m in \u001b[0;36m<module>\u001b[0;34m\u001b[0m\n\u001b[1;32m      2\u001b[0m \u001b[0murl\u001b[0m \u001b[0;34m=\u001b[0m \u001b[0;34m'https://api2.transloadit.com/assemblies'\u001b[0m\u001b[0;34m\u001b[0m\u001b[0;34m\u001b[0m\u001b[0m\n\u001b[1;32m      3\u001b[0m \u001b[0mbody\u001b[0m \u001b[0;34m=\u001b[0m \u001b[0;34m'my_merge_step\":{\"robot\":\"/video/merge\",\"preset\":\"ipad-high\",\"use\":{\"steps\":[{\"name\":\"minion.jpg\",\"as\":\"image\"}]},\"framerate\":\"1/10\",\"duration\":8.5}'\u001b[0m\u001b[0;34m\u001b[0m\u001b[0;34m\u001b[0m\u001b[0m\n\u001b[0;32m----> 4\u001b[0;31m \u001b[0mreq\u001b[0m \u001b[0;34m=\u001b[0m \u001b[0mRequest\u001b[0m\u001b[0;34m.\u001b[0m\u001b[0mpost\u001b[0m\u001b[0;34m(\u001b[0m\u001b[0mself\u001b[0m \u001b[0;34m=\u001b[0m \u001b[0;34m\"\"\u001b[0m\u001b[0;34m,\u001b[0m \u001b[0mpath\u001b[0m \u001b[0;34m=\u001b[0m \u001b[0murl\u001b[0m\u001b[0;34m,\u001b[0m \u001b[0mdata\u001b[0m \u001b[0;34m=\u001b[0m \u001b[0mbody\u001b[0m\u001b[0;34m,\u001b[0m \u001b[0mfiles\u001b[0m \u001b[0;34m=\u001b[0m \u001b[0;34m{\u001b[0m\u001b[0;34m\"key\"\u001b[0m\u001b[0;34m:\u001b[0m\u001b[0;34m\"88d987bf38da4ca7ab3bb2eed7dc2f97\"\u001b[0m\u001b[0;34m}\u001b[0m \u001b[0;34m)\u001b[0m\u001b[0;34m\u001b[0m\u001b[0;34m\u001b[0m\u001b[0m\n\u001b[0m\u001b[1;32m      5\u001b[0m \u001b[0;31m# tl = client.Transloadit('88d987bf38da4ca7ab3bb2eed7dc2f97', '312491072dec4677804bb7f2810ea74a62d1cd46')\u001b[0m\u001b[0;34m\u001b[0m\u001b[0;34m\u001b[0m\u001b[0;34m\u001b[0m\u001b[0m\n\u001b[1;32m      6\u001b[0m \u001b[0;31m# assembly = tl.new_assembly()\u001b[0m\u001b[0;34m\u001b[0m\u001b[0;34m\u001b[0m\u001b[0;34m\u001b[0m\u001b[0m\n",
      "\u001b[0;32m~/anaconda3/lib/python3.7/site-packages/transloadit/response.py\u001b[0m in \u001b[0;36m_wrapper\u001b[0;34m(*args, **kwargs)\u001b[0m\n\u001b[1;32m     43\u001b[0m     \u001b[0;34m@\u001b[0m\u001b[0mwraps\u001b[0m\u001b[0;34m(\u001b[0m\u001b[0mfunc\u001b[0m\u001b[0;34m)\u001b[0m\u001b[0;34m\u001b[0m\u001b[0;34m\u001b[0m\u001b[0m\n\u001b[1;32m     44\u001b[0m     \u001b[0;32mdef\u001b[0m \u001b[0m_wrapper\u001b[0m\u001b[0;34m(\u001b[0m\u001b[0;34m*\u001b[0m\u001b[0margs\u001b[0m\u001b[0;34m,\u001b[0m \u001b[0;34m**\u001b[0m\u001b[0mkwargs\u001b[0m\u001b[0;34m)\u001b[0m\u001b[0;34m:\u001b[0m\u001b[0;34m\u001b[0m\u001b[0;34m\u001b[0m\u001b[0m\n\u001b[0;32m---> 45\u001b[0;31m         \u001b[0;32mreturn\u001b[0m \u001b[0mResponse\u001b[0m\u001b[0;34m(\u001b[0m\u001b[0mfunc\u001b[0m\u001b[0;34m(\u001b[0m\u001b[0;34m*\u001b[0m\u001b[0margs\u001b[0m\u001b[0;34m,\u001b[0m \u001b[0;34m**\u001b[0m\u001b[0mkwargs\u001b[0m\u001b[0;34m)\u001b[0m\u001b[0;34m)\u001b[0m\u001b[0;34m\u001b[0m\u001b[0;34m\u001b[0m\u001b[0m\n\u001b[0m\u001b[1;32m     46\u001b[0m     \u001b[0;32mreturn\u001b[0m \u001b[0m_wrapper\u001b[0m\u001b[0;34m\u001b[0m\u001b[0;34m\u001b[0m\u001b[0m\n",
      "\u001b[0;32m~/anaconda3/lib/python3.7/site-packages/transloadit/request.py\u001b[0m in \u001b[0;36mpost\u001b[0;34m(self, path, data, extra_data, files)\u001b[0m\n\u001b[1;32m     58\u001b[0m         \u001b[0mReturn\u001b[0m \u001b[0man\u001b[0m \u001b[0minstance\u001b[0m \u001b[0mof\u001b[0m \u001b[0;34m<\u001b[0m\u001b[0mtransloadit\u001b[0m\u001b[0;34m.\u001b[0m\u001b[0mresponse\u001b[0m\u001b[0;34m.\u001b[0m\u001b[0mResponse\u001b[0m\u001b[0;34m>\u001b[0m\u001b[0;34m\u001b[0m\u001b[0;34m\u001b[0m\u001b[0m\n\u001b[1;32m     59\u001b[0m         \"\"\"\n\u001b[0;32m---> 60\u001b[0;31m         \u001b[0mdata\u001b[0m \u001b[0;34m=\u001b[0m \u001b[0mself\u001b[0m\u001b[0;34m.\u001b[0m\u001b[0m_to_payload\u001b[0m\u001b[0;34m(\u001b[0m\u001b[0mdata\u001b[0m\u001b[0;34m)\u001b[0m\u001b[0;34m\u001b[0m\u001b[0;34m\u001b[0m\u001b[0m\n\u001b[0m\u001b[1;32m     61\u001b[0m         \u001b[0;32mif\u001b[0m \u001b[0mextra_data\u001b[0m\u001b[0;34m:\u001b[0m\u001b[0;34m\u001b[0m\u001b[0;34m\u001b[0m\u001b[0m\n\u001b[1;32m     62\u001b[0m             \u001b[0mdata\u001b[0m\u001b[0;34m.\u001b[0m\u001b[0mupdate\u001b[0m\u001b[0;34m(\u001b[0m\u001b[0mextra_data\u001b[0m\u001b[0;34m)\u001b[0m\u001b[0;34m\u001b[0m\u001b[0;34m\u001b[0m\u001b[0m\n",
      "\u001b[0;31mAttributeError\u001b[0m: 'str' object has no attribute '_to_payload'"
     ]
    }
   ],
   "source": [
    "from transloadit.request import Request\n",
    "url = 'https://api2.transloadit.com/assemblies'\n",
    "body = 'my_merge_step\":{\"robot\":\"/video/merge\",\"preset\":\"ipad-high\",\"use\":{\"steps\":[{\"name\":\"minion.jpg\",\"as\":\"image\"}]},\"framerate\":\"1/10\",\"duration\":8.5}'\n",
    "req = Request.post(path = url, data = body, files = {\"key\":\"88d987bf38da4ca7ab3bb2eed7dc2f97\"} )\n",
    "# tl = client.Transloadit('88d987bf38da4ca7ab3bb2eed7dc2f97', '312491072dec4677804bb7f2810ea74a62d1cd46')\n",
    "# assembly = tl.new_assembly()\n",
    "# assembly.add_file(open('panda.jpg', 'rb'))\n",
    "# assembly.add_file(open('minion.jpg', 'rb'))\n",
    "# assembly.add_step('resize', '/image/resize', {'width': 70, 'height': 70})s\n",
    "# assembly_response = assembly.create(retries=5, wait=True)\n",
    "\n",
    "print(req.text)"
   ]
  },
  {
   "cell_type": "code",
   "execution_count": 49,
   "metadata": {},
   "outputs": [
    {
     "name": "stdout",
     "output_type": "stream",
     "text": [
      "400\n",
      "{\"error\":\"INVALID_FORM_DATA\",\"message\":\"The form contained bad data, which cannot be parsed.\"}\n"
     ]
    }
   ],
   "source": [
    "import requests\n",
    "import json\n",
    "my_data = '\"\"key\":\"88d987bf38da4ca7ab3bb2eed7dc2f97\",my_merge_step\":{\"robot\":\"/video/merge\",\"preset\":\"ipad-high\",\"use\":{\"steps\":[{\"name\":\"minion.jpg\",\"as\":\"image\"}]},\"framerate\":\"1/10\",\"duration\":8.5}'\n",
    "# print(json.loads(my_data))\n",
    "r = requests.post('https://api2.transloadit.com/assemblies', auth=('88d987bf38da4ca7ab3bb2eed7dc2f97', '312491072dec4677804bb7f2810ea74a62d1cd46'), data = my_data)\n",
    "\n",
    "print(r.status_code)\n",
    "print(r.text)\n"
   ]
  },
  {
   "cell_type": "code",
   "execution_count": 53,
   "metadata": {},
   "outputs": [
    {
     "ename": "TypeError",
     "evalue": "'dict' object is not callable",
     "output_type": "error",
     "traceback": [
      "\u001b[0;31m---------------------------------------------------------------------------\u001b[0m",
      "\u001b[0;31mTypeError\u001b[0m                                 Traceback (most recent call last)",
      "\u001b[0;32m<ipython-input-53-6aa6cfec7527>\u001b[0m in \u001b[0;36m<module>\u001b[0;34m\u001b[0m\n\u001b[1;32m      3\u001b[0m \u001b[0mtl\u001b[0m \u001b[0;34m=\u001b[0m \u001b[0mclient\u001b[0m\u001b[0;34m.\u001b[0m\u001b[0mTransloadit\u001b[0m\u001b[0;34m(\u001b[0m\u001b[0;34m'88d987bf38da4ca7ab3bb2eed7dc2f97'\u001b[0m\u001b[0;34m,\u001b[0m \u001b[0;34m'312491072dec4677804bb7f2810ea74a62d1cd46'\u001b[0m\u001b[0;34m)\u001b[0m\u001b[0;34m\u001b[0m\u001b[0;34m\u001b[0m\u001b[0m\n\u001b[1;32m      4\u001b[0m \u001b[0massembly\u001b[0m \u001b[0;34m=\u001b[0m \u001b[0mtl\u001b[0m\u001b[0;34m.\u001b[0m\u001b[0mnew_assembly\u001b[0m\u001b[0;34m(\u001b[0m\u001b[0;34m)\u001b[0m\u001b[0;34m\u001b[0m\u001b[0;34m\u001b[0m\u001b[0m\n\u001b[0;32m----> 5\u001b[0;31m \u001b[0massembly\u001b[0m\u001b[0;34m.\u001b[0m\u001b[0msteps\u001b[0m\u001b[0;34m(\u001b[0m\u001b[0;34m'merged'\u001b[0m\u001b[0;34m,\u001b[0m \u001b[0;34m'/video/merge'\u001b[0m\u001b[0;34m,\u001b[0m\u001b[0;34m{\u001b[0m\u001b[0;34m'name'\u001b[0m\u001b[0;34m:\u001b[0m\u001b[0;34m'minion.jpg'\u001b[0m\u001b[0;34m,\u001b[0m\u001b[0;34m'as'\u001b[0m\u001b[0;34m:\u001b[0m\u001b[0;34m'image'\u001b[0m\u001b[0;34m}\u001b[0m\u001b[0;34m)\u001b[0m\u001b[0;34m\u001b[0m\u001b[0;34m\u001b[0m\u001b[0m\n\u001b[0m\u001b[1;32m      6\u001b[0m \u001b[0;31m# assembly.add_step('merged', '/video/merge',{})\u001b[0m\u001b[0;34m\u001b[0m\u001b[0;34m\u001b[0m\u001b[0;34m\u001b[0m\u001b[0m\n\u001b[1;32m      7\u001b[0m \u001b[0;31m#                   'use': {\u001b[0m\u001b[0;34m\u001b[0m\u001b[0;34m\u001b[0m\u001b[0;34m\u001b[0m\u001b[0m\n",
      "\u001b[0;31mTypeError\u001b[0m: 'dict' object is not callable"
     ]
    }
   ],
   "source": [
    "from transloadit import client\n",
    "\n",
    "tl = client.Transloadit('88d987bf38da4ca7ab3bb2eed7dc2f97', '312491072dec4677804bb7f2810ea74a62d1cd46')\n",
    "assembly = tl.new_assembly()\n",
    "assembly.steps('merged', '/video/merge',{'name':'minion.jpg','as':'image'})\n",
    "# assembly.add_step('merged', '/video/merge',{})\n",
    "#                   'use': {\n",
    "#       'steps': [\n",
    "# #         {\n",
    "# #           'name': ':original',\n",
    "# #           'as': 'audio'\n",
    "# #         },\n",
    "#         {\n",
    "#           'name': 'minion.jpg',\n",
    "#           'as': 'image'\n",
    "#         },\n",
    "#         {\n",
    "#           'name': 'panda.jpg',\n",
    "#           'as': 'image'\n",
    "#         }\n",
    "#       ]\n",
    "#     })\n",
    "#                           [{'name':'panda.jpg', 'as':'image'},\n",
    "#                          {'name':'minion.jpg', 'as':'image'}])\n",
    "assembly_response = assembly.create(retries=5, wait=True)\n",
    "\n",
    "print(assembly_response.data.get('assembly_id'))"
   ]
  },
  {
   "cell_type": "code",
   "execution_count": null,
   "metadata": {},
   "outputs": [],
   "source": []
  }
 ],
 "metadata": {
  "kernelspec": {
   "display_name": "Python 3",
   "language": "python",
   "name": "python3"
  },
  "language_info": {
   "codemirror_mode": {
    "name": "ipython",
    "version": 3
   },
   "file_extension": ".py",
   "mimetype": "text/x-python",
   "name": "python",
   "nbconvert_exporter": "python",
   "pygments_lexer": "ipython3",
   "version": "3.7.3"
  }
 },
 "nbformat": 4,
 "nbformat_minor": 2
}
