{
 "cells": [
  {
   "cell_type": "markdown",
   "metadata": {},
   "source": [
    "## Install rediscluster\n",
    "```bash\n",
    "sudo pip install redis-py-cluster==1.3.6\n",
    "sudo pip install redis==2.10.6\n",
    "```"
   ]
  },
  {
   "cell_type": "markdown",
   "metadata": {},
   "source": [
    "## Connection"
   ]
  },
  {
   "cell_type": "code",
   "execution_count": 36,
   "metadata": {},
   "outputs": [],
   "source": [
    "from rediscluster import RedisCluster\n",
    "import sys\n",
    "\n",
    "def redis_cluster():\n",
    "    redis_nodes =  [\n",
    "                    {'host':'192.168.0.1','port':7000},\n",
    "                    {'host':'192.168.0.2','port':7000},\n",
    "                    {'host':'192.168.0.3','port':7000},\n",
    "                   ]\n",
    "    try:\n",
    "        return RedisCluster(startup_nodes=redis_nodes, password= \"REDIS_PASSWORD\")\n",
    "    except Exception as e:\n",
    "        print(\"Connect Error!\")\n",
    "        sys.exit(1)\n",
    "\n",
    "client = redis_cluster()"
   ]
  },
  {
   "cell_type": "markdown",
   "metadata": {},
   "source": [
    "## Insert Redeem Code - LLen, LPush"
   ]
  },
  {
   "cell_type": "code",
   "execution_count": 15,
   "metadata": {},
   "outputs": [
    {
     "name": "stdout",
     "output_type": "stream",
     "text": [
      "[Key]: 02\n",
      "[Before Insert Code Length]: 995070\n",
      "[Length]: 3\n",
      "[After Insert Code Length]: 995073\n"
     ]
    }
   ],
   "source": [
    "def insert_redeem_code(client, key, codes):\n",
    "    print(\"[Key]: %s\" % key)\n",
    "    print(\"[Before Insert Code Length]: %d\" % client.llen(key))\n",
    "    for code in codes:\n",
    "        client.lpush(key, code)\n",
    "    print(\"[Length]: %d\" % len(codes))\n",
    "    print(\"[After Insert Code Length]: %d\" % client.llen(key))\n",
    "    \n",
    "    \n",
    "insert_redeem_code(client, '02',['Code123','Code456','Code567'])"
   ]
  },
  {
   "cell_type": "markdown",
   "metadata": {},
   "source": [
    "## Print Redeem Code - LLen"
   ]
  },
  {
   "cell_type": "code",
   "execution_count": 10,
   "metadata": {},
   "outputs": [
    {
     "name": "stdout",
     "output_type": "stream",
     "text": [
      "[Code]: 9883\n"
     ]
    }
   ],
   "source": [
    "def print_length(client, key):\n",
    "    print(\"[Codes Length]: %d\" % client.llen(key))\n",
    "    \n",
    "    \n",
    "print_code(client, '12')"
   ]
  },
  {
   "cell_type": "markdown",
   "metadata": {},
   "source": [
    "## Print Users - hget"
   ]
  },
  {
   "cell_type": "code",
   "execution_count": 33,
   "metadata": {},
   "outputs": [
    {
     "data": {
      "text/html": [
       "<div>\n",
       "<style scoped>\n",
       "    .dataframe tbody tr th:only-of-type {\n",
       "        vertical-align: middle;\n",
       "    }\n",
       "\n",
       "    .dataframe tbody tr th {\n",
       "        vertical-align: top;\n",
       "    }\n",
       "\n",
       "    .dataframe thead th {\n",
       "        text-align: right;\n",
       "    }\n",
       "</style>\n",
       "<table border=\"1\" class=\"dataframe\">\n",
       "  <thead>\n",
       "    <tr style=\"text-align: right;\">\n",
       "      <th></th>\n",
       "      <th>user</th>\n",
       "      <th>gcard_code</th>\n",
       "      <th>type</th>\n",
       "      <th>success</th>\n",
       "      <th>response</th>\n",
       "      <th>time</th>\n",
       "    </tr>\n",
       "  </thead>\n",
       "  <tbody>\n",
       "    <tr>\n",
       "      <th>0</th>\n",
       "      <td>USER0001</td>\n",
       "      <td>CODE00001</td>\n",
       "      <td>02</td>\n",
       "      <td>True</td>\n",
       "      <td>{\"code\":\"0000\",\"message\":\"Success\"}</td>\n",
       "      <td>2020-03-11T08:54:30.61484173Z</td>\n",
       "    </tr>\n",
       "  </tbody>\n",
       "</table>\n",
       "</div>"
      ],
      "text/plain": [
       "       user gcard_code type  success                             response  \\\n",
       "0  USER0001  CODE00001   02     True  {\"code\":\"0000\",\"message\":\"Success\"}   \n",
       "\n",
       "                            time  \n",
       "0  2020-03-11T08:54:30.61484173Z  "
      ]
     },
     "execution_count": 33,
     "metadata": {},
     "output_type": "execute_result"
    }
   ],
   "source": [
    "import json\n",
    "import pandas as pd\n",
    "\n",
    "user_list = []\n",
    "gcard_code_list = []\n",
    "type_list = []\n",
    "success_list = []\n",
    "response_list = []\n",
    "time_list = []\n",
    "def print_users(client, key, users):\n",
    "    for user in users:\n",
    "        json_data = client.hget(key, user) \n",
    "        data = json.loads(json_data)\n",
    "        user_list.append(user)\n",
    "        gcard_code_list.append(data['gcardCode'])\n",
    "        type_list.append(data['type'])\n",
    "        success_list.append(data['success'])\n",
    "        response_list.append(data['response'])\n",
    "        time_list.append(data['time'])\n",
    "\n",
    "    users_dict = {\n",
    "        \"user\":user_list,\n",
    "        \"gcard_code\":gcard_code_list,\n",
    "        \"type\":type_list,\n",
    "        \"success\":success_list,\n",
    "        \"response\":response_list,\n",
    "        \"time\":time_list\n",
    "    }\n",
    "    return pd.DataFrame(users_dict)\n",
    "\n",
    "    \n",
    "print_users(client, 'REDEEM', ['USER0001'])"
   ]
  },
  {
   "cell_type": "code",
   "execution_count": null,
   "metadata": {},
   "outputs": [],
   "source": []
  },
  {
   "cell_type": "code",
   "execution_count": 43,
   "metadata": {},
   "outputs": [
    {
     "data": {
      "text/html": [
       "<div>\n",
       "<style scoped>\n",
       "    .dataframe tbody tr th:only-of-type {\n",
       "        vertical-align: middle;\n",
       "    }\n",
       "\n",
       "    .dataframe tbody tr th {\n",
       "        vertical-align: top;\n",
       "    }\n",
       "\n",
       "    .dataframe thead th {\n",
       "        text-align: right;\n",
       "    }\n",
       "</style>\n",
       "<table border=\"1\" class=\"dataframe\">\n",
       "  <thead>\n",
       "    <tr style=\"text-align: right;\">\n",
       "      <th></th>\n",
       "      <th>user</th>\n",
       "      <th>gcard_code</th>\n",
       "      <th>type</th>\n",
       "      <th>success</th>\n",
       "      <th>response</th>\n",
       "      <th>time</th>\n",
       "    </tr>\n",
       "  </thead>\n",
       "  <tbody>\n",
       "    <tr>\n",
       "      <th>0</th>\n",
       "      <td>USER001</td>\n",
       "      <td>CODE1</td>\n",
       "      <td>02</td>\n",
       "      <td>True</td>\n",
       "      <td>{\"code\":\"0000\",\"message\":\"Success\"}</td>\n",
       "      <td>2020-03-11T08:54:30.61484173Z</td>\n",
       "    </tr>\n",
       "    <tr>\n",
       "      <th>1</th>\n",
       "      <td>USER002</td>\n",
       "      <td>CODE2</td>\n",
       "      <td>02</td>\n",
       "      <td>True</td>\n",
       "      <td>{\"code\":\"0000\",\"message\":\"Success\"}</td>\n",
       "      <td>2020-03-11T08:39:00.109579327Z</td>\n",
       "    </tr>\n",
       "    <tr>\n",
       "      <th>2</th>\n",
       "      <td>USER003</td>\n",
       "      <td>CODE3</td>\n",
       "      <td>02</td>\n",
       "      <td>False</td>\n",
       "      <td>{\"code\":\"9999\",\"message\":\"System error\"}</td>\n",
       "      <td>2020-03-11T04:22:34.243373978Z</td>\n",
       "    </tr>\n",
       "  </tbody>\n",
       "</table>\n",
       "</div>"
      ],
      "text/plain": [
       "      user gcard_code type  success                                  response  \\\n",
       "0  USER001      CODE1   02     True       {\"code\":\"0000\",\"message\":\"Success\"}   \n",
       "1  USER002      CODE2   02     True       {\"code\":\"0000\",\"message\":\"Success\"}   \n",
       "2  USER003      CODE3   02    False  {\"code\":\"9999\",\"message\":\"System error\"}   \n",
       "\n",
       "                             time  \n",
       "0   2020-03-11T08:54:30.61484173Z  \n",
       "1  2020-03-11T08:39:00.109579327Z  \n",
       "2  2020-03-11T04:22:34.243373978Z  "
      ]
     },
     "execution_count": 43,
     "metadata": {},
     "output_type": "execute_result"
    }
   ],
   "source": [
    "import json\n",
    "import pandas as pd\n",
    "\n",
    "\n",
    "def print_users(client, key):\n",
    "    json_data = client.hgetall(key) \n",
    "    user_list = []\n",
    "    gcard_code_list = []\n",
    "    type_list = []\n",
    "    success_list = []\n",
    "    response_list = []\n",
    "    time_list = []\n",
    "    \n",
    "    for user in json_data.keys():\n",
    "        data = json.loads(json_data[user])\n",
    "        user_list.append(user)\n",
    "        gcard_code_list.append(data['gcardCode'])\n",
    "        type_list.append(data['type'])\n",
    "        success_list.append(data['success'])\n",
    "        response_list.append(data['response'])\n",
    "        time_list.append(data['time'])\n",
    "\n",
    "    users_dict = {\n",
    "        \"user\":user_list,\n",
    "        \"gcard_code\":gcard_code_list,\n",
    "        \"type\":type_list,\n",
    "        \"success\":success_list,\n",
    "        \"response\":response_list,\n",
    "        \"time\":time_list\n",
    "    }\n",
    "    return pd.DataFrame(users_dict)\n",
    "\n",
    "    \n",
    "print_users(client, 'REDEEMED_COVID_USER')"
   ]
  },
  {
   "cell_type": "code",
   "execution_count": null,
   "metadata": {},
   "outputs": [],
   "source": [
    "#     redisconn.set('name','admin')\n",
    "#     redisconn.set('age',18)\n",
    "#     print \"age  is: \", redisconn.get('age')"
   ]
  },
  {
   "cell_type": "code",
   "execution_count": null,
   "metadata": {},
   "outputs": [],
   "source": []
  }
 ],
 "metadata": {
  "kernelspec": {
   "display_name": "env_jupyter",
   "language": "python",
   "name": "env_jupyter"
  },
  "language_info": {
   "codemirror_mode": {
    "name": "ipython",
    "version": 3
   },
   "file_extension": ".py",
   "mimetype": "text/x-python",
   "name": "python",
   "nbconvert_exporter": "python",
   "pygments_lexer": "ipython3",
   "version": "3.7.5"
  }
 },
 "nbformat": 4,
 "nbformat_minor": 2
}
