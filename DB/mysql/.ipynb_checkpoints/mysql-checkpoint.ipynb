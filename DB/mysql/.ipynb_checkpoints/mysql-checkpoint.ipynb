{
 "cells": [
  {
   "cell_type": "code",
   "execution_count": 2,
   "metadata": {},
   "outputs": [],
   "source": [
    "import pymysql\n",
    "import tqdm"
   ]
  },
  {
   "cell_type": "markdown",
   "metadata": {},
   "source": [
    "# INSERT"
   ]
  },
  {
   "cell_type": "code",
   "execution_count": 3,
   "metadata": {},
   "outputs": [
    {
     "name": "stderr",
     "output_type": "stream",
     "text": [
      "/usr/local/lib/python3.7/site-packages/ipykernel_launcher.py:8: TqdmDeprecationWarning: Please use `tqdm.notebook.trange` instead of `tqdm.tnrange`\n",
      "  \n"
     ]
    },
    {
     "data": {
      "application/vnd.jupyter.widget-view+json": {
       "model_id": "d4464fccba4e4a8a99fe2fc0f91fde5f",
       "version_major": 2,
       "version_minor": 0
      },
      "text/plain": [
       "HBox(children=(FloatProgress(value=0.0, max=4.0), HTML(value='')))"
      ]
     },
     "metadata": {},
     "output_type": "display_data"
    },
    {
     "name": "stdout",
     "output_type": "stream",
     "text": [
      "123\n",
      "123\n",
      "567\n",
      "123\n",
      "\n"
     ]
    }
   ],
   "source": [
    "# 操作mysql\n",
    "db = pymysql.connect(host=\"localhost\", port=3306, user=\"admin\", passwd=\"admin\", db=\"meta\", charset='utf8')\n",
    "rows = ['123','123','567','123']\n",
    "\n",
    "for i in tqdm.tnrange(len(rows)):\n",
    "    try:\n",
    "        with db.cursor() as cursor:\n",
    "            sql = \"INSERT INTO `testDB`(`msg`) VALUES (%s)\"\n",
    "            cursor.execute(sql,(rows[i]))\n",
    "            print(rows[i])\n",
    "            \n",
    "    except BaseException as e:\n",
    "        print(e)\n",
    "# connection is not autocommit by default. So you must commit to save your changes.\n",
    "db.commit()\n",
    "db.close()"
   ]
  },
  {
   "cell_type": "markdown",
   "metadata": {},
   "source": [
    "# SELECT WHERE IN list"
   ]
  },
  {
   "cell_type": "code",
   "execution_count": null,
   "metadata": {},
   "outputs": [],
   "source": [
    "# 操作mysql\n",
    "db = pymysql.connect(host=\"localhost\", port=3306, user=\"admin\", passwd=\"admin\", db=\"meta\", charset='utf8')\n",
    "\n",
    "rows = ['123', '567']\n",
    "\n",
    "try:\n",
    "    with db.cursor() as cursor:\n",
    "        format_strings = ','.join(['%s'] * len(rows))\n",
    "        cursor.execute(\"SELECT * FROM `testDB` WHERE msg IN (%s)\" % format_strings, tuple(rows))\n",
    "        r = cursor.fetchall()\n",
    "        print(r)\n",
    "\n",
    "except BaseException as e:\n",
    "    print(e)\n",
    "db.commit()\n",
    "db.close()"
   ]
  }
 ],
 "metadata": {
  "kernelspec": {
   "display_name": "env_jupyter",
   "language": "python",
   "name": "env_jupyter"
  },
  "language_info": {
   "codemirror_mode": {
    "name": "ipython",
    "version": 3
   },
   "file_extension": ".py",
   "mimetype": "text/x-python",
   "name": "python",
   "nbconvert_exporter": "python",
   "pygments_lexer": "ipython3",
   "version": "3.7.5"
  }
 },
 "nbformat": 4,
 "nbformat_minor": 2
}
