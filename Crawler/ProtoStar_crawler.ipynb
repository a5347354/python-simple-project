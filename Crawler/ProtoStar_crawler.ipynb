{
 "cells": [
  {
   "cell_type": "markdown",
   "metadata": {},
   "source": [
    "# Crawler"
   ]
  },
  {
   "cell_type": "markdown",
   "metadata": {},
   "source": [
    "事前安裝\n",
    "``` Bash\n",
    "$ pip3 install requests\n",
    "$ pip3 install Selenium\n",
    "$ pip3 install beautifulsoup4\n",
    "```"
   ]
  },
  {
   "cell_type": "markdown",
   "metadata": {},
   "source": [
    "## Normal 普通版本"
   ]
  },
  {
   "cell_type": "code",
   "execution_count": 6,
   "metadata": {},
   "outputs": [
    {
     "name": "stdout",
     "output_type": "stream",
     "text": [
      "[{'title': 'Deloitte專業課程', 'content': 'PROTOSTAR 2019新合作夥伴Deloitte將於每月為團隊舉辦專業指導課程，時間與相關資訊將會陸續公布，敬請持續關注。', 'date': '2019.3.1'}, {'title': 'PROTOSTAR Alumni Annual Dinner', 'content': 'PROTOSTAR舉辦了第一屆聚會，邀請了上線團隊、創投，以及LINE同事，於現場進行交流與分享，期待創造未來更多合作機會', 'date': '2019.1.7'}, {'title': 'LINE Taiwan TechPulse 2018', 'content': '第三屆的LINE TechPulse 2018將為台灣開發者介紹更多LINE API串接套件的應用、以及AI、區塊鏈應用的趨勢資訊，敬邀您蒞臨參加。', 'date': '2018.12.21'}, {'title': 'MEET TAIPEI創新創業嘉年華', 'content': 'LINE將參與2018 MEET TAIPEI，展示新星計劃的平台資源，並與團隊進行媒合交流', 'date': '2018.11.15'}, {'title': 'LINE PROTOSTAR 升級發佈會', 'content': '看好台灣新創潛力，LINE正式宣佈與中華開發創新加速器攜手合作，為新星計畫全面升級', 'date': '2018.9.11'}, {'title': 'IDEAS Show 2018', 'content': 'IDEAS Show今年聚焦新創團隊在商業服務業、電子商務的應用。希望促進國內外團隊、創投與企業間的相互交流。', 'date': '2018.7.24'}, {'title': 'LINE Developer Meetup 開發者小聚系列活動 #3', 'content': '為了能讓LINE聊天機器人開發者能夠面對面互動，LINE Taiwan在今年舉辦了首場小聚LINE Developer Meetup', 'date': '2018.4.27'}, {'title': 'LINE\\xa0TAIWAN\\xa0TechPulse 2017', 'content': 'TechPulse 2017將聚焦在揭露LINE平台的最新進展與未來計劃，端出開發者馬上就能應用的最新資源工具等。', 'date': '2017.11.3'}, {'title': 'LINE\\xa0TAIWAN\\xa0TechPulse 2017', 'content': 'TechPulse 2017將聚焦在揭露LINE平台的最新進展與未來計劃，端出開發者馬上就能應用的最新資源工具等。', 'date': '2017.11.3'}, {'title': 'LINE Taiwan TechPulse 2018', 'content': '第三屆的LINE TechPulse 2018將為台灣開發者介紹更多LINE API串接套件的應用、以及AI、區塊鏈應用的趨勢資訊，敬邀您蒞臨參加。', 'date': '2018.12.21'}, {'title': 'MEET TAIPEI創新創業嘉年華', 'content': 'LINE將參與2018 MEET TAIPEI，展示新星計劃的平台資源，並與團隊進行媒合交流', 'date': '2018.11.15'}, {'title': 'LINE PROTOSTAR 升級發佈會', 'content': '看好台灣新創潛力，LINE正式宣佈與中華開發創新加速器攜手合作，為新星計畫全面升級', 'date': '2018.9.11'}, {'title': 'IDEAS Show 2018', 'content': 'IDEAS Show今年聚焦新創團隊在商業服務業、電子商務的應用。希望促進國內外團隊、創投與企業間的相互交流。', 'date': '2018.7.24'}, {'title': 'LINE Developer Meetup 開發者小聚系列活動 #3', 'content': '為了能讓LINE聊天機器人開發者能夠面對面互動，LINE Taiwan在今年舉辦了首場小聚LINE Developer Meetup', 'date': '2018.4.27'}]\n"
     ]
    }
   ],
   "source": [
    "import requests\n",
    "from bs4 import BeautifulSoup\n",
    "res = requests.get('https://protostar.line.me')\n",
    "news = []\n",
    "news_soup = BeautifulSoup(res.text, \"html.parser\")\n",
    "# class : eventsinfo__set\n",
    "for n in news_soup.find_all('div', 'eventsinfo__set') :\n",
    "    title = n.find('h3').text\n",
    "    section = n.find('section').text\n",
    "    date = n.find('h5').text\n",
    "    news.append({\n",
    "        'title' : title,\n",
    "        'content' : section, \n",
    "        'date' : date\n",
    "    })\n",
    "    \n",
    "print(news)"
   ]
  },
  {
   "cell_type": "markdown",
   "metadata": {},
   "source": [
    "## Selenium Chrome Driver \n",
    "關閉JavaScript"
   ]
  },
  {
   "cell_type": "code",
   "execution_count": 2,
   "metadata": {},
   "outputs": [
    {
     "name": "stdout",
     "output_type": "stream",
     "text": [
      "[{'title': 'Deloitte專業課程', 'content': 'PROTOSTAR 2019新合作夥伴Deloitte將於每月為團隊舉辦專業指導課程，時間與相關資訊將會陸續公布，敬請持續關注。', 'date': '2019.3.1'}, {'title': 'PROTOSTAR Alumni Annual Dinner', 'content': 'PROTOSTAR舉辦了第一屆聚會，邀請了上線團隊、創投，以及LINE同事，於現場進行交流與分享，期待創造未來更多合作機會', 'date': '2019.1.7'}, {'title': 'LINE Taiwan TechPulse 2018', 'content': '第三屆的LINE TechPulse 2018將為台灣開發者介紹更多LINE API串接套件的應用、以及AI、區塊鏈應用的趨勢資訊，敬邀您蒞臨參加。', 'date': '2018.12.21'}, {'title': 'MEET TAIPEI創新創業嘉年華', 'content': 'LINE將參與2018 MEET TAIPEI，展示新星計劃的平台資源，並與團隊進行媒合交流', 'date': '2018.11.15'}, {'title': 'LINE PROTOSTAR 升級發佈會', 'content': '看好台灣新創潛力，LINE正式宣佈與中華開發創新加速器攜手合作，為新星計畫全面升級', 'date': '2018.9.11'}, {'title': 'IDEAS Show 2018', 'content': 'IDEAS Show今年聚焦新創團隊在商業服務業、電子商務的應用。希望促進國內外團隊、創投與企業間的相互交流。', 'date': '2018.7.24'}, {'title': 'LINE Developer Meetup 開發者小聚系列活動 #3', 'content': '為了能讓LINE聊天機器人開發者能夠面對面互動，LINE Taiwan在今年舉辦了首場小聚LINE Developer Meetup', 'date': '2018.4.27'}, {'title': 'LINE\\xa0TAIWAN\\xa0TechPulse 2017', 'content': 'TechPulse 2017將聚焦在揭露LINE平台的最新進展與未來計劃，端出開發者馬上就能應用的最新資源工具等。', 'date': '2017.11.3'}, {'title': 'LINE\\xa0TAIWAN\\xa0TechPulse 2017', 'content': 'TechPulse 2017將聚焦在揭露LINE平台的最新進展與未來計劃，端出開發者馬上就能應用的最新資源工具等。', 'date': '2017.11.3'}, {'title': 'LINE Taiwan TechPulse 2018', 'content': '第三屆的LINE TechPulse 2018將為台灣開發者介紹更多LINE API串接套件的應用、以及AI、區塊鏈應用的趨勢資訊，敬邀您蒞臨參加。', 'date': '2018.12.21'}, {'title': 'MEET TAIPEI創新創業嘉年華', 'content': 'LINE將參與2018 MEET TAIPEI，展示新星計劃的平台資源，並與團隊進行媒合交流', 'date': '2018.11.15'}, {'title': 'LINE PROTOSTAR 升級發佈會', 'content': '看好台灣新創潛力，LINE正式宣佈與中華開發創新加速器攜手合作，為新星計畫全面升級', 'date': '2018.9.11'}, {'title': 'IDEAS Show 2018', 'content': 'IDEAS Show今年聚焦新創團隊在商業服務業、電子商務的應用。希望促進國內外團隊、創投與企業間的相互交流。', 'date': '2018.7.24'}, {'title': 'LINE Developer Meetup 開發者小聚系列活動 #3', 'content': '為了能讓LINE聊天機器人開發者能夠面對面互動，LINE Taiwan在今年舉辦了首場小聚LINE Developer Meetup', 'date': '2018.4.27'}]\n"
     ]
    }
   ],
   "source": [
    "from selenium import webdriver\n",
    "import requests\n",
    "from bs4 import BeautifulSoup\n",
    "# Chrome Driver download: https://chromedriver.chromium.org\n",
    "driver = webdriver.Chrome(executable_path=r'CHROME_DRIVER_PATH')\n",
    "driver.get('https://protostar.line.me')\n",
    "pageSource = driver.page_source\n",
    "driver.close()\n",
    "news = []\n",
    "\n",
    "news_soup = BeautifulSoup(pageSource, \"html.parser\")\n",
    "# class : eventsinfo__set\n",
    "for n in news_soup.find_all('div', 'eventsinfo__set') :\n",
    "    title = n.find('h3').text\n",
    "    section = n.find('section').text\n",
    "    date = n.find('h5').text\n",
    "    news.append({\n",
    "        'title' : title,\n",
    "        'content' : section, \n",
    "        'date' : date\n",
    "    })\n",
    "    \n",
    "print(news)"
   ]
  },
  {
   "cell_type": "code",
   "execution_count": null,
   "metadata": {},
   "outputs": [],
   "source": []
  }
 ],
 "metadata": {
  "kernelspec": {
   "display_name": "Python 3",
   "language": "python",
   "name": "python3"
  },
  "language_info": {
   "codemirror_mode": {
    "name": "ipython",
    "version": 3
   },
   "file_extension": ".py",
   "mimetype": "text/x-python",
   "name": "python",
   "nbconvert_exporter": "python",
   "pygments_lexer": "ipython3",
   "version": "3.7.3"
  }
 },
 "nbformat": 4,
 "nbformat_minor": 2
}
